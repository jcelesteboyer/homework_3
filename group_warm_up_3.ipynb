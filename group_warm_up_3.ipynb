{
 "cells": [
  {
   "cell_type": "code",
   "execution_count": 8,
   "id": "37243dca",
   "metadata": {},
   "outputs": [
    {
     "name": "stdout",
     "output_type": "stream",
     "text": [
      "a+b= 8\n",
      "a-b= -2\n",
      "a*b= 15\n"
     ]
    }
   ],
   "source": [
    "def some_func(a,b):\n",
    "    x = a + b\n",
    "    if x == 0:\n",
    "        print(\"Zero\")\n",
    "    else:\n",
    "        print(\"a+b=\",x)\n",
    "    x = a - b\n",
    "    if x == 0:\n",
    "        print(\"Zero\")\n",
    "    else:\n",
    "        print(\"a-b=\",x)\n",
    "    x = a * b\n",
    "    if x == 0:\n",
    "        print(\"Zero\")\n",
    "    else:\n",
    "        print(\"a*b=\",x)\n",
    "        \n",
    "some_func(3,5)"
   ]
  },
  {
   "cell_type": "code",
   "execution_count": 9,
   "id": "012d6a71",
   "metadata": {},
   "outputs": [
    {
     "name": "stdout",
     "output_type": "stream",
     "text": [
      "a+b= 6\n",
      "Zero\n",
      "a*b= 9\n"
     ]
    }
   ],
   "source": [
    "some_func(3,3)"
   ]
  },
  {
   "cell_type": "code",
   "execution_count": null,
   "id": "209495a8",
   "metadata": {},
   "outputs": [],
   "source": []
  }
 ],
 "metadata": {
  "kernelspec": {
   "display_name": "Python 3 (ipykernel)",
   "language": "python",
   "name": "python3"
  },
  "language_info": {
   "codemirror_mode": {
    "name": "ipython",
    "version": 3
   },
   "file_extension": ".py",
   "mimetype": "text/x-python",
   "name": "python",
   "nbconvert_exporter": "python",
   "pygments_lexer": "ipython3",
   "version": "3.9.7"
  }
 },
 "nbformat": 4,
 "nbformat_minor": 5
}
